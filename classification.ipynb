{
 "cells": [
  {
   "cell_type": "code",
   "execution_count": 2,
   "metadata": {},
   "outputs": [],
   "source": [
    "import numpy as np\n",
    "import pandas as pd\n",
    "from pathlib import Path"
   ]
  },
  {
   "cell_type": "code",
   "execution_count": 13,
   "metadata": {},
   "outputs": [],
   "source": [
    "# Path to data\n",
    "path_to_data = Path.cwd() / 'data'\n",
    "\n",
    "# Read train data from csv\n",
    "target_file_name = path_to_data / 'train.csv'\n",
    "target = pd.read_csv(train_file_name, index_col=0)\n",
    "del target.index.name\n",
    "target = target.category\n",
    "\n",
    "# Read training set\n",
    "train = pd.read_csv('training.csv', index_col=0)"
   ]
  },
  {
   "cell_type": "code",
   "execution_count": 23,
   "metadata": {},
   "outputs": [],
   "source": [
    "from sklearn.model_selection import train_test_split\n",
    "\n",
    "# Split data into training and test sets\n",
    "X_train, X_test, y_train, y_test = train_test_split(train, target, test_size=0.4, random_state=0)"
   ]
  },
  {
   "cell_type": "code",
   "execution_count": 26,
   "metadata": {},
   "outputs": [
    {
     "name": "stdout",
     "output_type": "stream",
     "text": [
      "KNN score: 0.321872\n",
      "Naive Bayes score: 0.160599\n",
      "LogisticRegression score: 0.202805\n",
      "Random Forest score: 0.063107\n"
     ]
    }
   ],
   "source": [
    "from sklearn import neighbors, linear_model, naive_bayes, ensemble\n",
    "\n",
    "knn = neighbors.KNeighborsClassifier()\n",
    "nb = naive_bayes.GaussianNB()\n",
    "logistic = linear_model.LogisticRegression(solver='liblinear', max_iter=1000, multi_class='ovr', verbose=0)\n",
    "rf = ensemble.RandomForestClassifier(n_estimators=500, max_depth=2, random_state=0)\n",
    "\n",
    "print('KNN score: %f' % knn.fit(X_train, y_train).score(X_test, y_test))\n",
    "print('Naive Bayes score: %f' % nb.fit(X_train, y_train).score(X_test, y_test))\n",
    "print('LogisticRegression score: %f' % logistic.fit(X_train, y_train).score(X_test, y_test))\n",
    "print('Random Forest score: %f' % rf.fit(X_train, y_train).score(X_test, y_test))"
   ]
  },
  {
   "cell_type": "code",
   "execution_count": null,
   "metadata": {},
   "outputs": [],
   "source": []
  }
 ],
 "metadata": {
  "kernelspec": {
   "display_name": "Python 3",
   "language": "python",
   "name": "python3"
  },
  "language_info": {
   "codemirror_mode": {
    "name": "ipython",
    "version": 3
   },
   "file_extension": ".py",
   "mimetype": "text/x-python",
   "name": "python",
   "nbconvert_exporter": "python",
   "pygments_lexer": "ipython3",
   "version": "3.7.3"
  }
 },
 "nbformat": 4,
 "nbformat_minor": 2
}
