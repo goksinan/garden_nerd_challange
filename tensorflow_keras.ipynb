{
 "cells": [
  {
   "cell_type": "code",
   "execution_count": 1,
   "metadata": {},
   "outputs": [],
   "source": [
    "import numpy as np\n",
    "import pandas as pd\n",
    "import matplotlib.pyplot as plt\n",
    "from pathlib import Path\n",
    "\n",
    "from sklearn.model_selection import train_test_split"
   ]
  },
  {
   "cell_type": "code",
   "execution_count": 2,
   "metadata": {},
   "outputs": [],
   "source": [
    "# Path to data\n",
    "path_to_data = Path.cwd() / 'data'\n",
    "\n",
    "# Read train data from csv\n",
    "target_file_name = path_to_data / 'train.csv'\n",
    "target = pd.read_csv(target_file_name, index_col=0)\n",
    "del target.index.name\n",
    "target = target.category\n",
    "target = target - 1\n",
    "\n",
    "# Read training set\n",
    "train = pd.read_csv('training_full.csv', index_col=0)"
   ]
  },
  {
   "cell_type": "code",
   "execution_count": 28,
   "metadata": {},
   "outputs": [],
   "source": [
    "# Split data into training and test sets\n",
    "X_train, X_val, y_train, y_val = train_test_split(train, target, \n",
    "                                                    test_size=0.4, \n",
    "                                                    random_state=0,\n",
    "                                                    stratify=target)"
   ]
  },
  {
   "cell_type": "code",
   "execution_count": 17,
   "metadata": {},
   "outputs": [
    {
     "name": "stdout",
     "output_type": "stream",
     "text": [
      "1.14.0\n",
      "2.2.4-tf\n"
     ]
    }
   ],
   "source": [
    "# Tensorflow and tf.keras\n",
    "from __future__ import absolute_import, division, print_function, unicode_literals\n",
    "\n",
    "import tensorflow as tf\n",
    "from tensorflow.keras import layers\n",
    "\n",
    "print(tf.version.VERSION)\n",
    "print(tf.keras.__version__)"
   ]
  },
  {
   "cell_type": "code",
   "execution_count": 35,
   "metadata": {},
   "outputs": [
    {
     "name": "stdout",
     "output_type": "stream",
     "text": [
      "Model: \"sequential_5\"\n",
      "_________________________________________________________________\n",
      "Layer (type)                 Output Shape              Param #   \n",
      "=================================================================\n",
      "dense_15 (Dense)             (None, 128)               323200    \n",
      "_________________________________________________________________\n",
      "dense_16 (Dense)             (None, 64)                8256      \n",
      "_________________________________________________________________\n",
      "dense_17 (Dense)             (None, 102)               6630      \n",
      "=================================================================\n",
      "Total params: 338,086\n",
      "Trainable params: 338,086\n",
      "Non-trainable params: 0\n",
      "_________________________________________________________________\n"
     ]
    }
   ],
   "source": [
    "model = tf.keras.Sequential([\n",
    "layers.Dense(128, activation='relu', input_shape=(X_train.shape[1],)),\n",
    "layers.Dense(64, activation='relu'),\n",
    "layers.Dense(102, activation='softmax')])\n",
    "\n",
    "model.compile(optimizer=tf.train.AdamOptimizer(0.001),\n",
    "              loss='sparse_categorical_crossentropy',\n",
    "              metrics=['accuracy'])\n",
    "\n",
    "model.summary()"
   ]
  },
  {
   "cell_type": "code",
   "execution_count": 36,
   "metadata": {},
   "outputs": [
    {
     "name": "stdout",
     "output_type": "stream",
     "text": [
      "Train on 11124 samples, validate on 7416 samples\n",
      "Epoch 1/20\n",
      "11124/11124 [==============================] - 3s 248us/sample - loss: 4.2694 - acc: 0.0738 - val_loss: 3.8585 - val_acc: 0.1108\n",
      "Epoch 2/20\n",
      "11124/11124 [==============================] - 3s 233us/sample - loss: 3.5607 - acc: 0.1564 - val_loss: 3.4032 - val_acc: 0.1963\n",
      "Epoch 3/20\n",
      "11124/11124 [==============================] - 3s 234us/sample - loss: 3.2175 - acc: 0.2184 - val_loss: 3.2687 - val_acc: 0.2031\n",
      "Epoch 4/20\n",
      "11124/11124 [==============================] - 3s 238us/sample - loss: 3.0058 - acc: 0.2562 - val_loss: 3.0998 - val_acc: 0.2326\n",
      "Epoch 5/20\n",
      "11124/11124 [==============================] - 3s 235us/sample - loss: 2.8533 - acc: 0.2837 - val_loss: 3.0098 - val_acc: 0.2620\n",
      "Epoch 6/20\n",
      "11124/11124 [==============================] - 3s 234us/sample - loss: 2.7153 - acc: 0.3139 - val_loss: 2.9291 - val_acc: 0.2671\n",
      "Epoch 7/20\n",
      "11124/11124 [==============================] - 3s 264us/sample - loss: 2.5857 - acc: 0.3420 - val_loss: 2.8502 - val_acc: 0.2977\n",
      "Epoch 8/20\n",
      "11124/11124 [==============================] - 3s 236us/sample - loss: 2.4742 - acc: 0.3647 - val_loss: 2.8481 - val_acc: 0.2884\n",
      "Epoch 9/20\n",
      "11124/11124 [==============================] - 3s 241us/sample - loss: 2.3586 - acc: 0.3919 - val_loss: 2.8348 - val_acc: 0.2988\n",
      "Epoch 10/20\n",
      "11124/11124 [==============================] - 3s 241us/sample - loss: 2.2681 - acc: 0.4128 - val_loss: 2.7643 - val_acc: 0.3049\n",
      "Epoch 11/20\n",
      "11124/11124 [==============================] - 3s 238us/sample - loss: 2.1691 - acc: 0.4324 - val_loss: 2.7335 - val_acc: 0.3209\n",
      "Epoch 12/20\n",
      "11124/11124 [==============================] - 3s 238us/sample - loss: 2.0759 - acc: 0.4530 - val_loss: 2.7159 - val_acc: 0.3290\n",
      "Epoch 13/20\n",
      "11124/11124 [==============================] - 3s 248us/sample - loss: 1.9911 - acc: 0.4783 - val_loss: 2.7269 - val_acc: 0.3250\n",
      "Epoch 14/20\n",
      "11124/11124 [==============================] - 3s 237us/sample - loss: 1.9082 - acc: 0.4954 - val_loss: 2.7330 - val_acc: 0.3244\n",
      "Epoch 15/20\n",
      "11124/11124 [==============================] - 3s 238us/sample - loss: 1.8380 - acc: 0.5106 - val_loss: 2.7737 - val_acc: 0.3123\n",
      "Epoch 16/20\n",
      "11124/11124 [==============================] - 3s 255us/sample - loss: 1.7532 - acc: 0.5316 - val_loss: 2.7287 - val_acc: 0.3319\n",
      "Epoch 17/20\n",
      "11124/11124 [==============================] - 3s 257us/sample - loss: 1.6772 - acc: 0.5489 - val_loss: 2.7863 - val_acc: 0.3146\n",
      "Epoch 18/20\n",
      "11124/11124 [==============================] - 3s 245us/sample - loss: 1.5992 - acc: 0.5667 - val_loss: 2.7712 - val_acc: 0.3219\n",
      "Epoch 19/20\n",
      "11124/11124 [==============================] - 3s 243us/sample - loss: 1.5197 - acc: 0.5892 - val_loss: 2.8172 - val_acc: 0.3167\n",
      "Epoch 20/20\n",
      "11124/11124 [==============================] - 3s 236us/sample - loss: 1.4338 - acc: 0.6121 - val_loss: 2.7985 - val_acc: 0.3277\n"
     ]
    },
    {
     "data": {
      "text/plain": [
       "<tensorflow.python.keras.callbacks.History at 0x130477d68>"
      ]
     },
     "execution_count": 36,
     "metadata": {},
     "output_type": "execute_result"
    }
   ],
   "source": [
    "model.fit(X_train, y_train, epochs=20, batch_size=32,\n",
    "          validation_data=(X_val, y_val))"
   ]
  },
  {
   "cell_type": "code",
   "execution_count": 24,
   "metadata": {},
   "outputs": [],
   "source": [
    "target = target - 1"
   ]
  },
  {
   "cell_type": "code",
   "execution_count": 26,
   "metadata": {},
   "outputs": [
    {
     "data": {
      "text/plain": [
       "101"
      ]
     },
     "execution_count": 26,
     "metadata": {},
     "output_type": "execute_result"
    }
   ],
   "source": [
    "target.max()"
   ]
  },
  {
   "cell_type": "code",
   "execution_count": null,
   "metadata": {},
   "outputs": [],
   "source": []
  }
 ],
 "metadata": {
  "kernelspec": {
   "display_name": "Python 3",
   "language": "python",
   "name": "python3"
  },
  "language_info": {
   "codemirror_mode": {
    "name": "ipython",
    "version": 3
   },
   "file_extension": ".py",
   "mimetype": "text/x-python",
   "name": "python",
   "nbconvert_exporter": "python",
   "pygments_lexer": "ipython3",
   "version": "3.7.3"
  }
 },
 "nbformat": 4,
 "nbformat_minor": 2
}
